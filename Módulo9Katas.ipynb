{
 "cells": [
  {
   "cell_type": "markdown",
   "metadata": {},
   "source": [
    "# Ejercicio 1"
   ]
  },
  {
   "cell_type": "code",
   "execution_count": 8,
   "metadata": {},
   "outputs": [
    {
     "data": {
      "text/plain": [
       "566.6666666666666"
      ]
     },
     "execution_count": 8,
     "metadata": {},
     "output_type": "execute_result"
    }
   ],
   "source": [
    "\n",
    "\n",
    "# Función para leer 3 tanques de combustible y muestre el promedio\n",
    "\n",
    "def avereged_tanks(tank_one, tank_two, tank_three):\n",
    "    averege = (tank_one + tank_two + tank_three)/3\n",
    "    return averege\n",
    "\n",
    "# Llamamos a la función que genera el reporte print(funcion(tanque1, tanque2, tanque3))\n",
    "avereged_tanks(100,250,300)\n",
    "\n",
    "\n",
    "# Función promedio \n",
    "def average(values):\n",
    "    suma_valores = sum(values)\n",
    "    cantidad_valores = len(values)\n",
    "    return suma_valores / cantidad_valores\n",
    "\n",
    "average([100,200,300])\n",
    "\n",
    "# Actualiza la función\n",
    "\n",
    "def new_avereged_tanks (values):\n",
    "    return average(values)\n",
    "    \n",
    "new_avereged_tanks([500,200,1000])\n"
   ]
  },
  {
   "cell_type": "markdown",
   "metadata": {},
   "source": [
    "# Ejercicio 2"
   ]
  },
  {
   "cell_type": "code",
   "execution_count": 19,
   "metadata": {},
   "outputs": [
    {
     "name": "stdout",
     "output_type": "stream",
     "text": [
      "\n",
      "    Hora de lanzamiento: 20 hrs \n",
      "    Tiempo de vuelo : 30 años \n",
      "    Destino: Marte \n",
      "    Contenido del tanque interno: 10000 litros\n",
      "    Contenido del tanque externo: 2000 litros\n",
      "    \n",
      "\n",
      "    Tiempo total de la mision : 50 años \n",
      "    Destino: marte \n",
      "    Contenido combustible total en la nave: 12000 litros\n",
      "    \n"
     ]
    }
   ],
   "source": [
    "# Función con un informe preciso de la misión. Considera hora de prelanzamiento, tiempo de vuelo, destino, tanque externo y tanque interno\n",
    "\n",
    "def informe_preciso(launch_time, flight_time, destiny, external_tank, internal_tank):\n",
    "    return f\"\"\"\n",
    "    Hora de lanzamiento: {launch_time} hrs \n",
    "    Tiempo de vuelo : {flight_time} años \n",
    "    Destino: {destiny} \n",
    "    Contenido del tanque interno: {internal_tank} litros\n",
    "    Contenido del tanque externo: {external_tank} litros\n",
    "    \"\"\" \n",
    "\n",
    "print(informe_preciso(20,30,\"Marte\",2000, 10000))\n",
    "\n",
    "# Escribe tu nueva función de reporte considerando lo anterior\n",
    "\n",
    "def dinamic_informe(destiny, *minutes, **fuel_reservoirs):\n",
    "     return f\"\"\"\n",
    "    Tiempo total de la mision : {sum(minutes)} años \n",
    "    Destino: {destiny} \n",
    "    Contenido combustible total en la nave: {sum(fuel_reservoirs.values())} litros\n",
    "    \"\"\" \n",
    "\n",
    "print(dinamic_informe(\"marte\",20,30, internal=2000, external=10000))\n",
    "\n",
    "# Escribe tu nueva función\n",
    "def dinamic_informe(destiny, *minutes, **fuel_reservoirs):\n",
    "    reporte= f\"\"\"\n",
    "    Tiempo total de la mision : {sum(minutes)} años \n",
    "    Destino: {destiny} \n",
    "    Contenido combustible total en la nave: {sum(fuel_reservoirs.values())} litros\n",
    "    \"\"\" \n",
    "\n",
    "    for tank_name, gallons in fuel_reservoirs.items():\n",
    "        main_report += f\"{tank_name} tank --> {gallons} gallons left\\n\"\n",
    "    return main_report\n",
    "\n",
    "print(dinamic_informe(\"marte\",20,30, internal=2000, external=10000))"
   ]
  }
 ],
 "metadata": {
  "interpreter": {
   "hash": "80cd1b1906b322366154880833b6dca621535d0220b5216280f5929cedbf97eb"
  },
  "kernelspec": {
   "display_name": "Python 3.10.2 64-bit",
   "language": "python",
   "name": "python3"
  },
  "language_info": {
   "codemirror_mode": {
    "name": "ipython",
    "version": 3
   },
   "file_extension": ".py",
   "mimetype": "text/x-python",
   "name": "python",
   "nbconvert_exporter": "python",
   "pygments_lexer": "ipython3",
   "version": "3.10.2"
  },
  "orig_nbformat": 4
 },
 "nbformat": 4,
 "nbformat_minor": 2
}
