{
 "cells": [
  {
   "cell_type": "markdown",
   "metadata": {},
   "source": [
    "# Ejercicio 1"
   ]
  },
  {
   "cell_type": "code",
   "execution_count": 2,
   "metadata": {},
   "outputs": [
    {
     "name": "stdout",
     "output_type": "stream",
     "text": [
      "distancia km: 628949330\n",
      "distancia en millas : 390577533.93\n"
     ]
    }
   ],
   "source": [
    "tierra = 149597870\n",
    "jupiter = 778547200\n",
    "\n",
    "#Calculando la distancia entre los dos planetas \n",
    "\n",
    "distancia = jupiter - tierra\n",
    "print(\"distancia km: \"+ str(distancia))\n",
    "\n",
    "distancia_millas = distancia * .621\n",
    "print(\"distancia en millas : \" + str(distancia_millas))"
   ]
  },
  {
   "cell_type": "markdown",
   "metadata": {},
   "source": [
    "# Ejercicio 2"
   ]
  },
  {
   "cell_type": "code",
   "execution_count": 5,
   "metadata": {},
   "outputs": [
    {
     "name": "stdout",
     "output_type": "stream",
     "text": [
      "distancia km: 100\n",
      "distancia millas: 62.1\n"
     ]
    }
   ],
   "source": [
    "# Calcular distancia entre el sol y dos planetas\n",
    "\n",
    "distancia_uno = input(\"Dame la distancia del planeta uno:\")\n",
    "distancia_dos = input(\"Dame la distancia del planeta dos:\")\n",
    "\n",
    "# Convirtiendo string a entero\n",
    "\n",
    "distancia_uno = int(distancia_uno)\n",
    "distancia_dos = int(distancia_dos)\n",
    "\n",
    "distancia_final = distancia_uno-distancia_dos\n",
    "\n",
    "final_km = abs(distancia_final)\n",
    "\n",
    "print(\"distancia km: \"+str(final_km))\n",
    "print(\"distancia millas: \"+str(abs(final_km*.621)))"
   ]
  }
 ],
 "metadata": {
  "interpreter": {
   "hash": "80cd1b1906b322366154880833b6dca621535d0220b5216280f5929cedbf97eb"
  },
  "kernelspec": {
   "display_name": "Python 3.10.2 64-bit",
   "language": "python",
   "name": "python3"
  },
  "language_info": {
   "codemirror_mode": {
    "name": "ipython",
    "version": 3
   },
   "file_extension": ".py",
   "mimetype": "text/x-python",
   "name": "python",
   "nbconvert_exporter": "python",
   "pygments_lexer": "ipython3",
   "version": "3.10.2"
  },
  "orig_nbformat": 4
 },
 "nbformat": 4,
 "nbformat_minor": 2
}
