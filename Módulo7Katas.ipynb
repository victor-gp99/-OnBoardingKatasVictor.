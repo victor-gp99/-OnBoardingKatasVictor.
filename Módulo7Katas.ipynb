{
 "cells": [
  {
   "cell_type": "code",
   "execution_count": 4,
   "metadata": {},
   "outputs": [
    {
     "name": "stdout",
     "output_type": "stream",
     "text": [
      "[]\n",
      "['hola']\n",
      "['hola', 'como']\n",
      "['hola', 'como', 'estas']\n",
      "['hola', 'como', 'estas', 'done']\n",
      "hola\n",
      "como\n",
      "estas\n",
      "done\n"
     ]
    }
   ],
   "source": [
    "new_planet = ''\n",
    "planets = []\n",
    "print(planets)\n",
    "\n",
    "while new_planet != \"done\":\n",
    "    new_planet = input('Escribe un planeta:(escribe done para terminar...) ')\n",
    "    planets.append(new_planet)\n",
    "    print(planets)\n",
    "\n",
    "print(\"----------------------------\")\n",
    "\n",
    "#interando la lista anterior\n",
    "for planet in planets:\n",
    "    print(planet)\n",
    "    \n"
   ]
  }
 ],
 "metadata": {
  "interpreter": {
   "hash": "80cd1b1906b322366154880833b6dca621535d0220b5216280f5929cedbf97eb"
  },
  "kernelspec": {
   "display_name": "Python 3.10.2 64-bit",
   "language": "python",
   "name": "python3"
  },
  "language_info": {
   "codemirror_mode": {
    "name": "ipython",
    "version": 3
   },
   "file_extension": ".py",
   "mimetype": "text/x-python",
   "name": "python",
   "nbconvert_exporter": "python",
   "pygments_lexer": "ipython3",
   "version": "3.10.2"
  },
  "orig_nbformat": 4
 },
 "nbformat": 4,
 "nbformat_minor": 2
}
