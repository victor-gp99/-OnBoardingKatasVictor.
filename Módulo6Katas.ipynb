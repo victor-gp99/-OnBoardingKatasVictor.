{
 "cells": [
  {
   "cell_type": "markdown",
   "metadata": {},
   "source": [
    "# Ejercicio 1"
   ]
  },
  {
   "cell_type": "code",
   "execution_count": 6,
   "metadata": {},
   "outputs": [
    {
     "name": "stdout",
     "output_type": "stream",
     "text": [
      "['Mercurio', 'Venus', 'Tierra', 'Marte', 'Jupiter', 'Saturno', 'Urano', 'Mercurio']\n",
      "['Mercurio', 'Venus', 'Tierra', 'Marte', 'Jupiter', 'Saturno', 'Urano', 'Mercurio', 'Pluton']\n"
     ]
    }
   ],
   "source": [
    "# Crea una lista con planetas\n",
    "planets = [\"Mercurio\", \"Venus\", \"Tierra\", \"Marte\", \"Jupiter\", \"Saturno\" , \"Urano\", \"Mercurio\" ]\n",
    "print(planets)\n",
    " \n",
    " # Agregando a plutin al array\n",
    "planets.append(\"Pluton\")\n",
    "print(planets)\n",
    "\n"
   ]
  },
  {
   "cell_type": "markdown",
   "metadata": {},
   "source": [
    "# Ejercicio 2"
   ]
  },
  {
   "cell_type": "code",
   "execution_count": 11,
   "metadata": {},
   "outputs": [
    {
     "name": "stdout",
     "output_type": "stream",
     "text": [
      "El planeta buscado por el usuario Saturno esta en la posicion 5\n",
      "planetas cerca de la tierra desde Saturnoson: ['Mercurio', 'Venus', 'Tierra', 'Marte', 'Jupiter']\n",
      "planetas lejos de la tierra desde Saturnoson: ['Urano', 'Mercurio', 'Pluton']\n"
     ]
    }
   ],
   "source": [
    "#Solicitando un planeta al usuario\n",
    "planet = input(\"Dame el planeta a buscar:(Con mayuscula al principio)\")\n",
    "print(\"El planeta buscado por el usuario \"+ str(planet) +\" esta en la posicion \"+ str(planets.index(planet)))\n",
    "\n",
    "#Rango de planetas\n",
    "cerca = planets[0 : planets.index(planet)]\n",
    "lejos = planets[planets.index(planet)+1 : len(planets)]\n",
    "print(\"planetas cerca de la tierra desde \"+ planet + \" son: \"+ str(cerca))\n",
    "print(\"planetas lejos de la tierra desde \"+ planet + \" son: \"+ str(lejos))\n"
   ]
  }
 ],
 "metadata": {
  "interpreter": {
   "hash": "80cd1b1906b322366154880833b6dca621535d0220b5216280f5929cedbf97eb"
  },
  "kernelspec": {
   "display_name": "Python 3.10.2 64-bit",
   "language": "python",
   "name": "python3"
  },
  "language_info": {
   "codemirror_mode": {
    "name": "ipython",
    "version": 3
   },
   "file_extension": ".py",
   "mimetype": "text/x-python",
   "name": "python",
   "nbconvert_exporter": "python",
   "pygments_lexer": "ipython3",
   "version": "3.10.2"
  },
  "orig_nbformat": 4
 },
 "nbformat": 4,
 "nbformat_minor": 2
}
