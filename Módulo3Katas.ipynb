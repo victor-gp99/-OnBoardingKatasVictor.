{
 "cells": [
  {
   "cell_type": "markdown",
   "metadata": {},
   "source": [
    "# Añadir el código necesario para crear una variable que guarde la velocidad del asteroide.\n",
    "# Escribe una expresión de prueba para calcular si necesita una advertencia.\n",
    "# Agregue las instrucciones que se ejecutarán si la expresión de prueba es true o false."
   ]
  },
  {
   "cell_type": "code",
   "execution_count": 2,
   "metadata": {},
   "outputs": [
    {
     "name": "stdout",
     "output_type": "stream",
     "text": [
      "Demasido rapido... ¡Alerta!\n"
     ]
    }
   ],
   "source": [
    "speed_ast=49\n",
    "if speed_ast > 25:\n",
    "    print(\"Demasido rapido... ¡Alerta!\")\n",
    "else:\n",
    "    print(\"¡Todo bien!\")\n"
   ]
  },
  {
   "cell_type": "markdown",
   "metadata": {},
   "source": [
    "# Agrega el código para crear una variable para un asteroide que viaja a 19 km/s\n",
    "# Escribe varias expresiones de prueba para determinar si puedes ver el rayo de luz desde la tierra\n",
    "# Agrega las instrucciones que se ejecutarán si las expresiones de prueba son True o False"
   ]
  },
  {
   "cell_type": "code",
   "execution_count": 5,
   "metadata": {},
   "outputs": [
    {
     "name": "stdout",
     "output_type": "stream",
     "text": [
      "Mira arriba! hay una luz extraña en el cielo!\n"
     ]
    }
   ],
   "source": [
    "speed_ast = 19\n",
    "\n",
    "if speed_ast >= 20:\n",
    "    print(\"Mira arriba! hay una luz extraña en el cielo!\")\n",
    "else:\n",
    "    print(\"Nada interesante que reportar\")"
   ]
  },
  {
   "cell_type": "markdown",
   "metadata": {},
   "source": [
    "# Agrega el código para crear nuevas variables para la velocidad y el tamaño del asteroide\n",
    "# Para probar el código, prueba con varias velocidades y tamaños\n",
    "# Escribe varias expresiones de prueba o combinaciones de expresiones de prueba para determinar qué mensaje se debe enviar a Tierra."
   ]
  },
  {
   "cell_type": "code",
   "execution_count": 22,
   "metadata": {},
   "outputs": [
    {
     "name": "stdout",
     "output_type": "stream",
     "text": [
      "Mira arriba! hay una luz extraña en el cielo!\n"
     ]
    }
   ],
   "source": [
    "tamanio= 25\n",
    "velocidad = 40\n",
    "\n",
    "if tamanio > 25 and velocidad > 25:\n",
    "    print(\"Daño a la tierra inminente!\")\n",
    "elif tamanio < 25 or velocidad < 25:\n",
    "    print(\"nada interesante que reportar!\")\n",
    "elif velocidad >= 20:\n",
    "    print(\"Mira arriba! hay una luz extraña en el cielo!\")"
   ]
  }
 ],
 "metadata": {
  "interpreter": {
   "hash": "80cd1b1906b322366154880833b6dca621535d0220b5216280f5929cedbf97eb"
  },
  "kernelspec": {
   "display_name": "Python 3.10.2 64-bit",
   "language": "python",
   "name": "python3"
  },
  "language_info": {
   "codemirror_mode": {
    "name": "ipython",
    "version": 3
   },
   "file_extension": ".py",
   "mimetype": "text/x-python",
   "name": "python",
   "nbconvert_exporter": "python",
   "pygments_lexer": "ipython3",
   "version": "3.10.2"
  },
  "orig_nbformat": 4
 },
 "nbformat": 4,
 "nbformat_minor": 2
}
